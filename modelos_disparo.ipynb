{
 "cells": [
  {
   "cell_type": "markdown",
   "id": "broad-vitamin",
   "metadata": {},
   "source": [
    "# Modelos de neurônios de disparo"
   ]
  },
  {
   "cell_type": "code",
   "execution_count": 1,
   "id": "professional-portland",
   "metadata": {},
   "outputs": [],
   "source": [
    "import numpy as np # processamento matemático\n",
    "import matplotlib.pyplot as plt # criação de gráficos\n",
    "from scipy.integrate import solve_ivp # solucionar eq. dif."
   ]
  },
  {
   "cell_type": "markdown",
   "id": "agreed-whole",
   "metadata": {},
   "source": [
    "## Modelos\n",
    "Os modelos abaixo simulam o disparo de potenciais de ação, o mecanismo usado pelos neurônios para transmissão de informação. [[1](#1-Claren-Tan,-Markp-Sarlika-&-Nikola-Kasabov,-%22Spiking-Neural-Networks:-Background,-Recent-Development-and-the-NeuCube-Architecture%22,-Neural-Processing-Letters-(2020)-52:1675-1701)]\n",
    "\n",
    "|Modelos | N. de variáveis | Complexidade | Biologicamente plausível|\n",
    "--- | --- | --- | ---\n",
    "|Leaky integrate-and-fire|1|Muito baixa|Não|\n",
    "|Izhikevich|2|Muito baixa|Não|\n",
    "|SRM|1|Baixa|Não|\n",
    "|Hodgkin-Huxley|4|Muito alta|Sim|\n",
    "|FitzHugh-Nagumo|2|Média|Não|\n",
    "|Wilson|2|Média|Não|\n",
    "|Moris-Lecar|3|Alta|Sim|"
   ]
  },
  {
   "cell_type": "markdown",
   "id": "dedicated-spanking",
   "metadata": {},
   "source": [
    "### Leaky integrate-and-fire\n",
    "\n",
    "O modelo Leaky integrate-and-fire (LIF) é composto por apenas uma equação diferencial, que representa o comportamento do circuito abaixo:\n",
    "![teste](imagens/circuito_lif.svg)\n",
    "\n",
    "No circuito, a capacitância $C_m$ representa a capaciância da membrana bilipídica do neurônio. O potencial de membrana $V_m$ se altera com a entrada/saída de íons através de canais existentes ao longo da membrana do neurônio, bem como com a aplicação de uma corrente $I_{ap}$. Nesse modelo, apenas o canal de vazamento (_leak_) é representado, através do potencial de vazamento $E_L$ e a condutância de vazamento $G_L$ (o inverso da resistência). A dinâmica de alteração do potencial de membrana é dada pela seguinte equação:\n",
    "\n",
    "$\n",
    "c_m\\frac{dV_m}{dt} = G_L(E_L-V_m)+I_{ap}; \\text{se } V_m > V_{th} \\text{ então } V_m\\mapsto V_{reset}\n",
    "$\n",
    "\n",
    "A parte direita da equação é uma condição em que se o potencial de membrana ultrapassar um determinado limiar $V_{th}$, caracterizando o disparo (_fire_) de um potencial de ação, então o valor do potencial é atualizado para um valor de _reset_ $V_{reset}$. [[2](#2-Paul-Miller,-%22An-introductory-course-in-computational-neuroscience%22,-The-MIT-Press,-2018)]"
   ]
  },
  {
   "cell_type": "code",
   "execution_count": 2,
   "id": "minimal-april",
   "metadata": {
    "scrolled": true
   },
   "outputs": [
    {
     "data": {
      "image/png": "[encoded data removed]",
      "text/plain": [
       "<Figure size 432x288 with 3 Axes>"
      ]
     },
     "metadata": {
      "needs_background": "light"
     },
     "output_type": "display_data"
    }
   ],
   "source": [
    "def lif(t, v, gl, el, cm, iap, vth, vr):\n",
    "    # no intervalo de 0.15 até 0.35 a corrente é aplicada\n",
    "    if t > 0.15 and t < 0.35:\n",
    "        i = iap\n",
    "    else: # no resto do tempo a corrente é 0\n",
    "        i = 0\n",
    "    dvdt = (gl*(el-v) + i)/cm # calcula a equação diferencial\n",
    "    # [-1] indica o último elemento do vetor\n",
    "    # nesse caso, significa o último potencial calculado\n",
    "    if v[-1] > vth: # se o potencial ultrapasssar o limiar\n",
    "        v[-1] = vr  # muda o potencial para o valor de reset\n",
    "    return dvdt\n",
    "\n",
    "# parametros de simulação\n",
    "t0 = 0 # tempo inicial\n",
    "tf = 0.5 # tempo final\n",
    "dt = 0.0001 # passo de tempo\n",
    "tvec = np.arange(t0, tf, dt) # vetor de pontos no tempo\n",
    "\n",
    "# parametros do neuronio lif\n",
    "tau = 0.010 # constante de tempo da membrana\n",
    "el = -0.070 # potencial de vazamento (ou potencial de repouso)\n",
    "vth = -0.050 # potencial de limiar\n",
    "vr = -0.080 # potencial de reset\n",
    "cm = 100*10**(-12) # capacitância de membrana total\n",
    "gl = cm/tau # condutância de membrana total (condutância de vazamento)\n",
    "v0 = el # o potência de membrana inicia no potencial de repouso\n",
    "\n",
    "# simulacao de trials\n",
    "iap = np.array([180, 210, 240])*(10**(-12)) # valores de corrente aplicados\n",
    "\n",
    "ntrials = len(iap) # numero total de trials\n",
    "_, ax = plt.subplots(ntrials) # cria conjunto de figuras\n",
    "for trial in range(ntrials): # laço ao longo dos trials\n",
    "    parametros = [gl, el, cm, iap[trial], vth, vr] # agrupa os parâmetros\n",
    "    sol = solve_ivp(lif, [t0, tf], [v0], t_eval=tvec, args=parametros)\n",
    "\n",
    "    ax[trial].plot(sol.t,sol.y[0]*1000, 'k') # plota o potencial vs tempo\n",
    "    ax[trial].set_xlim(0, 0.5) # ajusta a escala em x\n",
    "    ax[trial].set_ylim(1000*(vr-0.005), 1000*(vth+0.005)) # e em y\n",
    "    ax[trial].set_xlabel('Tempo (s)') # nomeia o eixo x\n",
    "    ax[trial].set_ylabel('Vm (mV)') # nomeia o eixo y da segunda linha\n",
    "    ax[trial].set_title(f'{str(iap[trial]*10**9)}nA') # o título é a corrente\n",
    "plt.tight_layout()\n",
    "plt.show() # exibe a figura"
   ]
  },
  {
   "cell_type": "markdown",
   "id": "aggressive-cornell",
   "metadata": {},
   "source": [
    "## Referências\n",
    "\n",
    "### 1 Claren Tan, Markp Sarlika & Nikola Kasabov, \"Spiking Neural Networks: Background, Recent Development and the NeuCube Architecture\", Neural Processing Letters (2020) 52:1675-1701\n",
    "\n",
    "### 2 Paul Miller, \"An introductory course in computational neuroscience\", The MIT Press, 2018"
   ]
  }
 ],
 "metadata": {
  "kernelspec": {
   "display_name": "Python 3",
   "language": "python",
   "name": "python3"
  },
  "language_info": {
   "codemirror_mode": {
    "name": "ipython",
    "version": 3
   },
   "file_extension": ".py",
   "mimetype": "text/x-python",
   "name": "python",
   "nbconvert_exporter": "python",
   "pygments_lexer": "ipython3",
   "version": "3.8.5"
  }
 },
 "nbformat": 4,
 "nbformat_minor": 5
}
